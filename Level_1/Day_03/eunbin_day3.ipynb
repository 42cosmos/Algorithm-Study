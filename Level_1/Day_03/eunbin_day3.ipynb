{
 "cells": [
  {
   "cell_type": "code",
   "execution_count": 1,
   "id": "87b877fe",
   "metadata": {},
   "outputs": [],
   "source": [
    "def solution(n):\n",
    "    watermelon = '수박'\n",
    "    calculate, rest = divmod(n, len(watermelon))\n",
    "    result = watermelon * calculate\n",
    "    return result if rest == 0 else result + watermelon[0]"
   ]
  },
  {
   "cell_type": "code",
   "execution_count": 2,
   "id": "21bf3958",
   "metadata": {},
   "outputs": [],
   "source": [
    "watermelon = '수박'\n",
    "n = 3"
   ]
  },
  {
   "cell_type": "code",
   "execution_count": 3,
   "id": "aa28b2de",
   "metadata": {},
   "outputs": [
    {
     "data": {
      "text/plain": [
       "((1, 1), (1, 0))"
      ]
     },
     "execution_count": 3,
     "metadata": {},
     "output_type": "execute_result"
    }
   ],
   "source": [
    "divmod(n, len(watermelon)), divmod(2, len(watermelon))"
   ]
  },
  {
   "cell_type": "code",
   "execution_count": 4,
   "id": "74dd7da6",
   "metadata": {},
   "outputs": [
    {
     "data": {
      "text/plain": [
       "'수박수박'"
      ]
     },
     "execution_count": 4,
     "metadata": {},
     "output_type": "execute_result"
    }
   ],
   "source": [
    "watermelon * divmod(4, len(watermelon))[0]"
   ]
  },
  {
   "cell_type": "code",
   "execution_count": null,
   "id": "9f3c78d3",
   "metadata": {},
   "outputs": [],
   "source": []
  }
 ],
 "metadata": {
  "kernelspec": {
   "display_name": "Python 3 (ipykernel)",
   "language": "python",
   "name": "python3"
  },
  "language_info": {
   "codemirror_mode": {
    "name": "ipython",
    "version": 3
   },
   "file_extension": ".py",
   "mimetype": "text/x-python",
   "name": "python",
   "nbconvert_exporter": "python",
   "pygments_lexer": "ipython3",
   "version": "3.8.11"
  }
 },
 "nbformat": 4,
 "nbformat_minor": 5
}
