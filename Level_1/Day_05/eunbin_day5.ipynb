{
 "cells": [
  {
   "cell_type": "code",
   "execution_count": 1,
   "id": "431772ae",
   "metadata": {},
   "outputs": [],
   "source": [
    "test = [\"Jane\", \"Kim\"]"
   ]
  },
  {
   "cell_type": "code",
   "execution_count": 4,
   "id": "37198a6d",
   "metadata": {},
   "outputs": [
    {
     "data": {
      "text/plain": [
       "['김서방은 1에 있다']"
      ]
     },
     "execution_count": 4,
     "metadata": {},
     "output_type": "execute_result"
    }
   ],
   "source": [
    "[f\"김서방은 {idx}에 있다\" for idx, i in enumerate(test) if i.lower() == 'kim']"
   ]
  }
 ],
 "metadata": {
  "kernelspec": {
   "display_name": "Python 3 (ipykernel)",
   "language": "python",
   "name": "python3"
  },
  "language_info": {
   "codemirror_mode": {
    "name": "ipython",
    "version": 3
   },
   "file_extension": ".py",
   "mimetype": "text/x-python",
   "name": "python",
   "nbconvert_exporter": "python",
   "pygments_lexer": "ipython3",
   "version": "3.8.11"
  }
 },
 "nbformat": 4,
 "nbformat_minor": 5
}
