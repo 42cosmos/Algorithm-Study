{
 "cells": [
  {
   "cell_type": "markdown",
   "id": "8dfd9828",
   "metadata": {},
   "source": [
    "## 첫 번째 시도"
   ]
  },
  {
   "cell_type": "code",
   "execution_count": 16,
   "id": "7d128956",
   "metadata": {},
   "outputs": [
    {
     "data": {
      "text/plain": [
       "2"
      ]
     },
     "execution_count": 16,
     "metadata": {},
     "output_type": "execute_result"
    }
   ],
   "source": [
    "n = 5\n",
    "lost = [2, 4]\n",
    "reserve = [1, 3, 5]"
   ]
  },
  {
   "cell_type": "code",
   "execution_count": 17,
   "id": "8acd0c3f",
   "metadata": {},
   "outputs": [
    {
     "name": "stdout",
     "output_type": "stream",
     "text": [
      "2\n",
      "4\n"
     ]
    }
   ],
   "source": [
    "for extra in reserve:\n",
    "    if extra-1 in lost:\n",
    "        lost.remove(extra-1)\n",
    "        print(extra-1)\n",
    "    elif extra+1 in lost:\n",
    "        lost.remove(extra+1)\n",
    "        print(extra+1)\n",
    "        \n",
    "\n",
    "n - len(lost)"
   ]
  },
  {
   "cell_type": "code",
   "execution_count": 102,
   "id": "f9c126de",
   "metadata": {
    "scrolled": true
   },
   "outputs": [
    {
     "data": {
      "text/plain": [
       "{3, 4, 5, 76}"
      ]
     },
     "execution_count": 102,
     "metadata": {},
     "output_type": "execute_result"
    }
   ],
   "source": [
    "set([76, 3, 4, 5])"
   ]
  },
  {
   "cell_type": "markdown",
   "id": "2beb0fbb",
   "metadata": {},
   "source": [
    "## 두 번째"
   ]
  },
  {
   "cell_type": "code",
   "execution_count": 94,
   "id": "42f716d1",
   "metadata": {},
   "outputs": [
    {
     "data": {
      "text/plain": [
       "([18, 21], [3, 4, 5, 6, 8, 13, 17, 22, 23, 26, 28])"
      ]
     },
     "execution_count": 94,
     "metadata": {},
     "output_type": "execute_result"
    }
   ],
   "source": [
    "n, lost, reserve = (\n",
    "        30,\n",
    "        [1, 2, 7, 9, 10, 11, 12, 14, 15, 16, 18, 20, 21, 24, 25, 27], # 16개\n",
    "        [1, 2, 3, 4, 5, 6, 7, 8, 9, 10, 11, 12, 13, 14, 15, 16, 17, 20, 22, 23, 24, 25, 26, 27, 28], # 25개\n",
    "    )\n",
    "\n",
    "reserved = sorted([i for i in reserve if i not in lost])\n",
    "losted = sorted([i for i in lost if i not in reserve])\n",
    "\n",
    "losted, reserved"
   ]
  },
  {
   "cell_type": "code",
   "execution_count": 103,
   "id": "51ae6f66",
   "metadata": {},
   "outputs": [
    {
     "name": "stdout",
     "output_type": "stream",
     "text": [
      "18\n",
      "21\n"
     ]
    },
    {
     "data": {
      "text/plain": [
       "30"
      ]
     },
     "execution_count": 103,
     "metadata": {},
     "output_type": "execute_result"
    }
   ],
   "source": [
    "def solution(n, lost, reserve):\n",
    "    reserved = sorted([i for i in reserve if i not in lost])\n",
    "    losted = sorted([i for i in lost if i not in reserve])\n",
    "    for extra in reserved:\n",
    "        if extra-1 in losted:\n",
    "            losted.remove(extra-1)\n",
    "            print(extra-1)\n",
    "        elif extra+1 in losted:\n",
    "            losted.remove(extra+1)\n",
    "            print(extra+1)\n",
    "\n",
    "\n",
    "    return n - len(losted)"
   ]
  },
  {
   "cell_type": "code",
   "execution_count": null,
   "id": "e11127bf",
   "metadata": {},
   "outputs": [],
   "source": []
  }
 ],
 "metadata": {
  "kernelspec": {
   "display_name": "Python 3 (ipykernel)",
   "language": "python",
   "name": "python3"
  },
  "language_info": {
   "codemirror_mode": {
    "name": "ipython",
    "version": 3
   },
   "file_extension": ".py",
   "mimetype": "text/x-python",
   "name": "python",
   "nbconvert_exporter": "python",
   "pygments_lexer": "ipython3",
   "version": "3.8.11"
  }
 },
 "nbformat": 4,
 "nbformat_minor": 5
}
