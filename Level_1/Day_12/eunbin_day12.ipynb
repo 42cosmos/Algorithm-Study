{
 "cells": [
  {
   "cell_type": "code",
   "execution_count": 2,
   "id": "d8d5048e",
   "metadata": {},
   "outputs": [],
   "source": [
    "n, m = \"5 3\".split()"
   ]
  },
  {
   "cell_type": "code",
   "execution_count": 7,
   "id": "736823a8",
   "metadata": {},
   "outputs": [
    {
     "data": {
      "text/plain": [
       "'*****\\n*****\\n*****'"
      ]
     },
     "execution_count": 7,
     "metadata": {},
     "output_type": "execute_result"
    }
   ],
   "source": [
    "'\\n'.join([\"*\" * int(n) for _ in range(int(m))])"
   ]
  },
  {
   "cell_type": "code",
   "execution_count": null,
   "id": "09443352",
   "metadata": {},
   "outputs": [],
   "source": []
  }
 ],
 "metadata": {
  "kernelspec": {
   "display_name": "Python 3 (ipykernel)",
   "language": "python",
   "name": "python3"
  },
  "language_info": {
   "codemirror_mode": {
    "name": "ipython",
    "version": 3
   },
   "file_extension": ".py",
   "mimetype": "text/x-python",
   "name": "python",
   "nbconvert_exporter": "python",
   "pygments_lexer": "ipython3",
   "version": "3.8.11"
  }
 },
 "nbformat": 4,
 "nbformat_minor": 5
}
