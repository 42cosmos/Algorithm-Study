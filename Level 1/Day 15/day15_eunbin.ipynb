{
 "cells": [
  {
   "cell_type": "code",
   "execution_count": 132,
   "metadata": {},
   "outputs": [],
   "source": [
    "import re\n",
    "dartResult = \"1D2S3T*\""
   ]
  },
  {
   "cell_type": "code",
   "execution_count": 133,
   "metadata": {
    "scrolled": true
   },
   "outputs": [
    {
     "data": {
      "text/plain": [
       "['1D', '2S', '3T*']"
      ]
     },
     "execution_count": 133,
     "metadata": {},
     "output_type": "execute_result"
    }
   ],
   "source": [
    "[i for i in re.findall('[0-9]+[SDT][\\*\\#]?', dartResult)]"
   ]
  },
  {
   "cell_type": "code",
   "execution_count": 139,
   "metadata": {},
   "outputs": [
    {
     "data": {
      "text/plain": [
       "59"
      ]
     },
     "execution_count": 139,
     "metadata": {},
     "output_type": "execute_result"
    }
   ],
   "source": [
    "1**2 + 2**1 * 2 + 3**3 * 2"
   ]
  },
  {
   "cell_type": "code",
   "execution_count": 146,
   "metadata": {},
   "outputs": [
    {
     "name": "stdout",
     "output_type": "stream",
     "text": [
      "[1, 4, 54]\n"
     ]
    }
   ],
   "source": [
    "T = lambda x: x ** 3\n",
    "D = lambda x: x ** 2\n",
    "S = lambda x: x ** 1\n",
    "\n",
    "result = list()\n",
    "dartList = [i for i in re.findall('[0-9]+[SDT][\\*\\#]?', dartResult)]\n",
    "for num in dartList:\n",
    "#     print(num)\n",
    "    if '*' == num[-1] or '#' == num[-1]:\n",
    "        result.append(eval(num[-2])(int(num[:-2])))\n",
    "        \n",
    "        if num[-1] == '*':\n",
    "            if len(result) == 3:\n",
    "                original = [result[0]]\n",
    "                result = list(map(lambda x: x * 2, result))\n",
    "                result = original + result[1:]\n",
    "                print(result)\n",
    "            else:\n",
    "                result = list(map(lambda x: x * 2, result))\n",
    "                \n",
    "\n",
    "        if num[-1] == '#':\n",
    "            result.append(result.pop() * (-1))\n",
    "            \n",
    "    else:\n",
    "        result.append(eval(num[-1])(int(num[:-1])))\n",
    "        \n"
   ]
  },
  {
   "cell_type": "code",
   "execution_count": 147,
   "metadata": {},
   "outputs": [
    {
     "data": {
      "text/plain": [
       "59"
      ]
     },
     "execution_count": 147,
     "metadata": {},
     "output_type": "execute_result"
    }
   ],
   "source": [
    "sum(result)"
   ]
  },
  {
   "cell_type": "code",
   "execution_count": null,
   "metadata": {},
   "outputs": [],
   "source": []
  }
 ],
 "metadata": {
  "kernelspec": {
   "display_name": "Python 3",
   "language": "python",
   "name": "python3"
  },
  "language_info": {
   "codemirror_mode": {
    "name": "ipython",
    "version": 3
   },
   "file_extension": ".py",
   "mimetype": "text/x-python",
   "name": "python",
   "nbconvert_exporter": "python",
   "pygments_lexer": "ipython3",
   "version": "3.8.5"
  }
 },
 "nbformat": 4,
 "nbformat_minor": 4
}
