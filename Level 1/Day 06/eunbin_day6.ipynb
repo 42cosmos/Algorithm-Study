{
 "cells": [
  {
   "cell_type": "code",
   "execution_count": 1,
   "id": "5a1f2198",
   "metadata": {},
   "outputs": [],
   "source": [
    "n = 12\n",
    "# 12의 약수 1,2,3,4,6,12"
   ]
  },
  {
   "cell_type": "code",
   "execution_count": 9,
   "id": "4b5be1ab",
   "metadata": {},
   "outputs": [
    {
     "data": {
      "text/plain": [
       "[1, 2, 3, 4, 5, 6, 7, 8, 9, 10, 11, 12]"
      ]
     },
     "execution_count": 9,
     "metadata": {},
     "output_type": "execute_result"
    }
   ],
   "source": [
    "[i for i in range(1, n+1)]"
   ]
  },
  {
   "cell_type": "code",
   "execution_count": 8,
   "id": "9a78995c",
   "metadata": {},
   "outputs": [
    {
     "data": {
      "text/plain": [
       "[0, 0, 0, 0, 2, 0, 5, 4, 3, 2, 1, 0]"
      ]
     },
     "execution_count": 8,
     "metadata": {},
     "output_type": "execute_result"
    }
   ],
   "source": [
    "[n%i for i in range(1, n+1)]"
   ]
  },
  {
   "cell_type": "code",
   "execution_count": 10,
   "id": "46373f4a",
   "metadata": {},
   "outputs": [
    {
     "data": {
      "text/plain": [
       "28"
      ]
     },
     "execution_count": 10,
     "metadata": {},
     "output_type": "execute_result"
    }
   ],
   "source": [
    "sum([i for i in range(1, n+1) if n%i == 0])"
   ]
  },
  {
   "cell_type": "code",
   "execution_count": 11,
   "id": "64d3793d",
   "metadata": {},
   "outputs": [],
   "source": [
    "def solution(n):\n",
    "    return sum([i for i in range(1, n+1) if n%i == 0])"
   ]
  },
  {
   "cell_type": "code",
   "execution_count": 12,
   "id": "28c23920",
   "metadata": {},
   "outputs": [
    {
     "data": {
      "text/plain": [
       "6"
      ]
     },
     "execution_count": 12,
     "metadata": {},
     "output_type": "execute_result"
    }
   ],
   "source": [
    "solution(5)"
   ]
  },
  {
   "cell_type": "code",
   "execution_count": null,
   "id": "b9e4fc67",
   "metadata": {},
   "outputs": [],
   "source": []
  }
 ],
 "metadata": {
  "kernelspec": {
   "display_name": "Python 3 (ipykernel)",
   "language": "python",
   "name": "python3"
  },
  "language_info": {
   "codemirror_mode": {
    "name": "ipython",
    "version": 3
   },
   "file_extension": ".py",
   "mimetype": "text/x-python",
   "name": "python",
   "nbconvert_exporter": "python",
   "pygments_lexer": "ipython3",
   "version": "3.8.11"
  }
 },
 "nbformat": 4,
 "nbformat_minor": 5
}
