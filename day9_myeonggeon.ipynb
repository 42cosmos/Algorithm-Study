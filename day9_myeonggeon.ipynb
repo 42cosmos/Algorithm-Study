{
 "cells": [
  {
   "cell_type": "code",
   "execution_count": null,
   "metadata": {},
   "outputs": [],
   "source": [
    "y_cnt = 0\n",
    "p_cnt = 0\n",
    "for i in s:\n",
    "    if lower(i) == 'y':\n",
    "        y_cnt +=1\n",
    "    elif lower(i) == 'p':\n",
    "        p_cnt +=1\n",
    "        \n",
    "if y_cnt == p_cnt:\n",
    "    return True\n",
    "return False\n"
   ]
  }
 ],
 "metadata": {
  "kernelspec": {
   "display_name": "Python 3",
   "language": "python",
   "name": "python3"
  },
  "language_info": {
   "codemirror_mode": {
    "name": "ipython",
    "version": 3
   },
   "file_extension": ".py",
   "mimetype": "text/x-python",
   "name": "python",
   "nbconvert_exporter": "python",
   "pygments_lexer": "ipython3",
   "version": "3.8.3"
  }
 },
 "nbformat": 4,
 "nbformat_minor": 4
}
